{
 "cells": [
  {
   "cell_type": "markdown",
   "id": "e6246432-4b75-4fc7-a5b9-17673820abca",
   "metadata": {},
   "source": [
    "### GUI Interface"
   ]
  },
  {
   "cell_type": "code",
   "execution_count": 6,
   "id": "e77f404f-7ddd-49ce-a233-189d9b432937",
   "metadata": {},
   "outputs": [],
   "source": [
    "import tkinter as tk\n",
    "from tkinter import simpledialog, messagebox\n",
    "\n",
    "class MinimaxGUI:\n",
    "    def __init__(self, root):\n",
    "        self.root = root\n",
    "        self.root.title(\"Minimax Tree Visualization\")\n",
    "\n",
    "        self.label = tk.Label(root, text=\"Enter the depth of the Minimax tree:\")\n",
    "        self.label.pack()\n",
    "\n",
    "        self.depth_entry = tk.Entry(root)\n",
    "        self.depth_entry.pack()\n",
    "\n",
    "        self.submit_button = tk.Button(root, text=\"Create Tree\", command=self.create_tree)\n",
    "        self.submit_button.pack()\n",
    "\n",
    "        self.tree_selection = tk.StringVar()\n",
    "        self.tree_selection.set(\"Minimax\")\n",
    "\n",
    "        self.minimax_radio = tk.Radiobutton(root, text=\"Minimax Tree\", variable=self.tree_selection, value=\"Minimax\", command=self.update_canvas)\n",
    "        self.minimax_radio.pack(anchor=tk.W)\n",
    "\n",
    "        self.alpha_beta_radio = tk.Radiobutton(root, text=\"Alpha-Beta Pruning Tree\", variable=self.tree_selection, value=\"AlphaBeta\", command=self.update_canvas)\n",
    "        self.alpha_beta_radio.pack(anchor=tk.W)\n",
    "\n",
    "        self.canvas = tk.Canvas(root, width=1000, height=700, bg='white')\n",
    "        self.canvas.pack()\n",
    "\n",
    "    def create_tree(self):\n",
    "        try:\n",
    "            depth = int(self.depth_entry.get())\n",
    "            if depth <= 0:\n",
    "                raise ValueError(\"Depth must be positive\")\n",
    "            self.initialize_trees(depth)\n",
    "        except ValueError as e:\n",
    "            messagebox.showerror(\"Input Error\", str(e))\n",
    "\n",
    "    def initialize_trees(self, depth):\n",
    "        self.canvas.delete(\"all\")\n",
    "        total_leaf_nodes = 2**depth\n",
    "        leaf_values_str = simpledialog.askstring(\"Input\", f\"Enter {total_leaf_nodes} leaf node values separated by spaces:\")\n",
    "        leaf_values = list(map(int, leaf_values_str.split()))\n",
    "        \n",
    "        if len(leaf_values) != total_leaf_nodes:\n",
    "            messagebox.showerror(\"Input Error\", f\"Exactly {total_leaf_nodes} values are required.\")\n",
    "            return\n",
    "\n",
    "        self.minimax_root = build_tree(leaf_values.copy(), depth)\n",
    "        self.alpha_beta_root = build_tree(leaf_values.copy(), depth)\n",
    "\n",
    "        minimax(self.minimax_root)\n",
    "        alpha_beta_pruning(self.alpha_beta_root)\n",
    "\n",
    "        self.update_canvas()\n",
    "\n",
    "    def update_canvas(self):\n",
    "        self.canvas.delete(\"all\")\n",
    "        if self.tree_selection.get() == \"Minimax\":\n",
    "            self.draw_tree(self.minimax_root, 500, 50, 200)\n",
    "        else:\n",
    "            self.draw_tree(self.alpha_beta_root, 500, 50, 200)\n",
    "\n",
    "    def draw_tree(self, node, x, y, offset):\n",
    "        if node is None:\n",
    "            return\n",
    "        \n",
    "        node_type = \"Max\" if node.is_max else \"Min\"\n",
    "        if node.is_max:\n",
    "            self.canvas.create_oval(x - 15, y - 15, x + 15, y + 15, fill='lightblue')\n",
    "        else:\n",
    "            self.canvas.create_rectangle(x - 15, y - 15, x + 15, y + 15, fill='lightgreen')\n",
    "        \n",
    "        self.canvas.create_text(x, y, text=str(node.value), fill=\"black\")\n",
    "        self.canvas.create_text(x, y - 20, text=node_type, fill=\"black\")\n",
    "\n",
    "        if node.left:\n",
    "            if node.left.pruned:\n",
    "                self.canvas.create_line(x, y, x - offset, y + 50, fill='red', dash=(2, 2))\n",
    "            else:\n",
    "                self.canvas.create_line(x, y, x - offset, y + 50)\n",
    "            self.draw_tree(node.left, x - offset, y + 50, offset // 2)\n",
    "        \n",
    "        if node.right:\n",
    "            if node.right.pruned:\n",
    "                self.canvas.create_line(x, y, x + offset, y + 50, fill='red', dash=(2, 2))\n",
    "            else:\n",
    "                self.canvas.create_line(x, y, x + offset, y + 50)\n",
    "            self.draw_tree(node.right, x + offset, y + 50, offset // 2)\n",
    "\n",
    "if __name__ == \"__main__\":\n",
    "    root = tk.Tk()\n",
    "    app = MinimaxGUI(root)\n",
    "    root.mainloop()\n"
   ]
  },
  {
   "cell_type": "markdown",
   "id": "ad9ed693-bfbf-4467-b015-3df0118c23a1",
   "metadata": {},
   "source": [
    "### Minimax Tree Creation"
   ]
  },
  {
   "cell_type": "code",
   "execution_count": 5,
   "id": "7bcdd2a9-d2ee-4900-b2d7-1f91cdb61d17",
   "metadata": {},
   "outputs": [],
   "source": [
    "class Node:\n",
    "    def __init__(self, value=None, is_max=True):\n",
    "        self.value = value\n",
    "        self.is_max = is_max\n",
    "        self.left = None\n",
    "        self.right = None\n",
    "        self.pruned = False\n",
    "\n",
    "def build_tree(values, depth, is_max=True):\n",
    "    if depth == 0:\n",
    "        return Node(value=values.pop(0), is_max=is_max)\n",
    "    \n",
    "    node = Node(is_max=is_max)\n",
    "    node.left = build_tree(values, depth - 1, not is_max)\n",
    "    node.right = build_tree(values, depth - 1, not is_max)\n",
    "    \n",
    "    return node"
   ]
  },
  {
   "cell_type": "markdown",
   "id": "4854a8b3-fb89-4d2f-8a95-5bee4635dfb7",
   "metadata": {},
   "source": [
    "### Minimax Computation"
   ]
  },
  {
   "cell_type": "code",
   "execution_count": 4,
   "id": "116ec5a6-4a29-43c0-ab53-a7c4b1199e1a",
   "metadata": {},
   "outputs": [],
   "source": [
    "def minimax(node, is_max=True):\n",
    "    if node.left is None and node.right is None:\n",
    "        return node.value\n",
    "    \n",
    "    if is_max:\n",
    "        max_eval = -float('inf')\n",
    "        max_eval = max(max_eval, minimax(node.left, False))\n",
    "        max_eval = max(max_eval, minimax(node.right, False))\n",
    "        node.value = max_eval\n",
    "        return max_eval\n",
    "    else:\n",
    "        min_eval = float('inf')\n",
    "        min_eval = min(min_eval, minimax(node.left, True))\n",
    "        min_eval = min(min_eval, minimax(node.right, True))\n",
    "        node.value = min_eval\n",
    "        return min_eval"
   ]
  },
  {
   "cell_type": "markdown",
   "id": "818f2bec-9bd1-487d-9911-d379ed456f0c",
   "metadata": {},
   "source": [
    "### Alpha-Beta Pruning"
   ]
  },
  {
   "cell_type": "code",
   "execution_count": 3,
   "id": "fedccbd6-f582-443c-a125-03c51b29b062",
   "metadata": {},
   "outputs": [],
   "source": [
    "def alpha_beta_pruning(node, alpha=-float('inf'), beta=float('inf'), is_max=True):\n",
    "    if node.left is None and node.right is None:\n",
    "        return node.value\n",
    "    \n",
    "    if is_max:\n",
    "        max_eval = -float('inf')\n",
    "        max_eval = max(max_eval, alpha_beta_pruning(node.left, alpha, beta, False))\n",
    "        alpha = max(alpha, max_eval)\n",
    "        if alpha >= beta:\n",
    "            node.value = max_eval\n",
    "            node.right.pruned = True\n",
    "            return max_eval\n",
    "        max_eval = max(max_eval, alpha_beta_pruning(node.right, alpha, beta, False))\n",
    "        node.value = max_eval\n",
    "        return max_eval\n",
    "    else:\n",
    "        min_eval = float('inf')\n",
    "        min_eval = min(min_eval, alpha_beta_pruning(node.left, alpha, beta, True))\n",
    "        beta = min(beta, min_eval)\n",
    "        if alpha >= beta:\n",
    "            node.value = min_eval\n",
    "            node.right.pruned = True\n",
    "            return min_eval\n",
    "        min_eval = min(min_eval, alpha_beta_pruning(node.right, alpha, beta, True))\n",
    "        node.value = min_eval\n",
    "        return min_eval"
   ]
  },
  {
   "cell_type": "markdown",
   "id": "ca331bad-a614-4348-ae25-14f896cd5206",
   "metadata": {},
   "source": [
    "# Minimax Tree Visualization with Alpha-Beta Pruning"
   ]
  },
  {
   "cell_type": "markdown",
   "id": "ed39fe0c-1c2e-4975-a6bb-c9032cba637b",
   "metadata": {},
   "source": [
    "### Objective"
   ]
  },
  {
   "cell_type": "raw",
   "id": "cafff2e6-ca91-4761-9283-400aaf4823e9",
   "metadata": {},
   "source": [
    "The objective of this assignment is to create a graphical user interface (GUI) application that allows \n",
    "users to visualize a Minimax tree with alpha-beta pruning and compute the Minimax values at each node \n",
    "along with the visualization of pruned branches."
   ]
  },
  {
   "cell_type": "markdown",
   "id": "df60444b-5a7b-4450-936c-d879843a3557",
   "metadata": {},
   "source": [
    "### Assignment Components"
   ]
  },
  {
   "cell_type": "raw",
   "id": "fbe40694-52bf-4177-a78b-66ff06142233",
   "metadata": {},
   "source": [
    "1.\tGUI Interface\n",
    "    •\tCreate a Tkinter-based GUI application.\n",
    "    •\tInclude input fields for users to specify the depth of the Minimax tree.\n",
    "    •\tImplement buttons for users to create the Minimax tree and visualize it.\n",
    "2.\tMinimax Tree Creation\n",
    "    •\tCreate a function to recursively generate the Minimax tree based on the user-specified depth.\n",
    "    •\tPrompt the user to input leaf node values manually.\n",
    "    •\tConstruct the tree structure using nodes.\n",
    "3.\tMinimax Computation\n",
    "    •\tImplement a function to compute the Minimax value for each node in the tree recursively.\n",
    "    •\tUse the Minimax algorithm to determine the values at each node.\n",
    "4.\tVisualization\n",
    "    •\tDraw the Minimax tree on the GUI canvas.\n",
    "    •\tRepresent nodes as shapes (e.g., circles for Max nodes and squares for Min nodes).\n",
    "    •\tDisplay the computed Minimax value at each node.\n",
    "5.\tTesting\n",
    "    •\tTest the application with different tree depths and input values.\n",
    "    •\tEnsure that the computed Minimax values match the expected results.\n"
   ]
  },
  {
   "cell_type": "markdown",
   "id": "87eebcbb-f354-425e-8a59-f317a888f4c6",
   "metadata": {},
   "source": [
    "### Implementation Details "
   ]
  },
  {
   "cell_type": "raw",
   "id": "75cacb4b-0b4d-4bc1-8bc5-2517f4860ea5",
   "metadata": {},
   "source": [
    "1. GUI Interface: \n",
    "        Developed using Tkinter, allowing users to input the depth of the Minimax tree and select the type of tree to visualize (Minimax or Alpha-Beta Pruning).\n",
    "2. Tree Creation: \n",
    "        Functions to build the tree structure based on user input for leaf node values.\n",
    "3. Minimax Computation: \n",
    "        Recursive implementation of the Minimax algorithm to compute values at each node.\n",
    "4. Alpha-Beta Pruning: \n",
    "        Enhanced the Minimax computation with alpha-beta pruning to eliminate unnecessary branches.\n",
    "Visualization: Nodes are drawn as shapes on a Tkinter canvas, with pruned branches highlighted in red, and each node labeled as \"Min\" or \"Max\".hlighted.\r\n"
   ]
  },
  {
   "cell_type": "markdown",
   "id": "56de1aa8-5b7e-4306-ad9b-dc18472534dc",
   "metadata": {},
   "source": [
    "### Challenges Faced "
   ]
  },
  {
   "cell_type": "raw",
   "id": "89b8d10b-dfa9-4ec1-8ebd-536814607b74",
   "metadata": {},
   "source": [
    "1. Ensuring the correct number of leaf values is provided for the specified tree depth.\n",
    "2. Managing user inputs and handling errors gracefully.\n",
    "3. Visualizing both types of trees (Minimax and Alpha-Beta Pruning) on the same interface without clutter."
   ]
  },
  {
   "cell_type": "markdown",
   "id": "af6d6705-20d6-470d-80f2-390a9ef3a1e0",
   "metadata": {},
   "source": [
    "### Additional Features"
   ]
  },
  {
   "cell_type": "raw",
   "id": "90fde33e-0f6b-4381-a82d-ee147a287c2f",
   "metadata": {},
   "source": [
    "1. Option for users to input all leaf node values at once.\n",
    "2. Visual differentiation between pruned and non-pruned branches.\n",
    "3. Labeling nodes as \"Min\" or \"Max\" in the visualization."
   ]
  }
 ],
 "metadata": {
  "kernelspec": {
   "display_name": "Python 3 (ipykernel)",
   "language": "python",
   "name": "python3"
  },
  "language_info": {
   "codemirror_mode": {
    "name": "ipython",
    "version": 3
   },
   "file_extension": ".py",
   "mimetype": "text/x-python",
   "name": "python",
   "nbconvert_exporter": "python",
   "pygments_lexer": "ipython3",
   "version": "3.11.7"
  }
 },
 "nbformat": 4,
 "nbformat_minor": 5
}
